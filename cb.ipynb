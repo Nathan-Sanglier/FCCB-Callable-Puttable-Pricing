{
 "cells": [
  {
   "cell_type": "code",
   "execution_count": null,
   "id": "ec2cc4f2",
   "metadata": {},
   "outputs": [],
   "source": []
  }
 ],
 "metadata": {
  "language_info": {
   "name": "python"
  }
 },
 "nbformat": 4,
 "nbformat_minor": 5
}
